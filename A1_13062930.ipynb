{
  "nbformat": 4,
  "nbformat_minor": 0,
  "metadata": {
    "colab": {
      "name": "A1_13062930.ipynb",
      "version": "0.3.2",
      "provenance": [],
      "include_colab_link": true
    },
    "kernelspec": {
      "name": "python3",
      "display_name": "Python 3"
    }
  },
  "cells": [
    {
      "cell_type": "markdown",
      "metadata": {
        "id": "view-in-github",
        "colab_type": "text"
      },
      "source": [
        "<a href=\"https://colab.research.google.com/github/geojojacob/UTS_ML_ID13062930/blob/master/A1_13062930.ipynb\" target=\"_parent\"><img src=\"https://colab.research.google.com/assets/colab-badge.svg\" alt=\"Open In Colab\"/></a>"
      ]
    },
    {
      "cell_type": "markdown",
      "metadata": {
        "id": "c-rKgFhVXlB-",
        "colab_type": "text"
      },
      "source": [
        "###Assignment 1"
      ]
    },
    {
      "cell_type": "code",
      "metadata": {
        "id": "Hk22ncO_XnsQ",
        "colab_type": "code",
        "colab": {}
      },
      "source": [
        "Student No"
      ],
      "execution_count": 0,
      "outputs": []
    },
    {
      "cell_type": "markdown",
      "metadata": {
        "id": "JNHcgiUMXpcr",
        "colab_type": "text"
      },
      "source": [
        "Heading"
      ]
    },
    {
      "cell_type": "markdown",
      "metadata": {
        "id": "bbq3fo_5Xq21",
        "colab_type": "text"
      },
      "source": [
        "Test"
      ]
    }
  ]
}