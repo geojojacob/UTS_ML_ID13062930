{
  "nbformat": 4,
  "nbformat_minor": 0,
  "metadata": {
    "colab": {
      "name": "A1_13062930.ipynb",
      "version": "0.3.2",
      "provenance": [],
      "include_colab_link": true
    },
    "kernelspec": {
      "name": "python3",
      "display_name": "Python 3"
    }
  },
  "cells": [
    {
      "cell_type": "markdown",
      "metadata": {
        "id": "view-in-github",
        "colab_type": "text"
      },
      "source": [
        "<a href=\"https://colab.research.google.com/github/geojojacob/UTS_ML_ID13062930/blob/master/A1_13062930.ipynb\" target=\"_parent\"><img src=\"https://colab.research.google.com/assets/colab-badge.svg\" alt=\"Open In Colab\"/></a>"
      ]
    },
    {
      "cell_type": "markdown",
      "metadata": {
        "id": "c-rKgFhVXlB-",
        "colab_type": "text"
      },
      "source": [
        "###Assignment 1"
      ]
    },
    {
      "cell_type": "markdown",
      "metadata": {
        "id": "8K4tgV6AYxPE",
        "colab_type": "text"
      },
      "source": [
        "Student no"
      ]
    },
    {
      "cell_type": "markdown",
      "metadata": {
        "id": "VEoE1FjzY1X7",
        "colab_type": "text"
      },
      "source": [
        "###Introduction"
      ]
    },
    {
      "cell_type": "markdown",
      "metadata": {
        "id": "yCKpqzp9ZVH5",
        "colab_type": "text"
      },
      "source": [
        "This report aims to critically analyze and review machine learning and data analytics literature by evaluating the selected article “An eye detection method based on convolutional neural networks and support vector machines.” This article is prepared by authors Mingxin Yu, Xiaoying Tang, Yingzi Lin, David Schmidt, Xiangzhou Wang, Yikang Guo, and Bo Liang from Northeastern University, Boston and published in the year 2018. The selected paper will be analyzed based on multiple aspects such as content, innovation, technical quality, application, x-factor, as well as the overall presentation."
      ]
    },
    {
      "cell_type": "markdown",
      "metadata": {
        "id": "4zKTGijhZZi5",
        "colab_type": "text"
      },
      "source": [
        "###Content"
      ]
    },
    {
      "cell_type": "markdown",
      "metadata": {
        "id": "WyNeTUJsZc5y",
        "colab_type": "text"
      },
      "source": [
        "In this paper, the authors have explained a new eye detection method that they have developed using a combination of both convolutional neural networks (CNN) as well as support vector machines (SVM). There are various applications for eye detection such as\n",
        "\n",
        "\n",
        "1.\tAutomatic Face detection\n",
        "2.  Eye gaze tracking devices\n",
        "3.\tDrowsiness detection and\n",
        "4.\tHuman-robot interactions\n",
        "\n",
        "\n",
        "\n",
        "Since these applications are very crucial, it is imperative that the detection process is highly accurate. Eye detection is based on analyzing several characteristics of the eye such as the iris color, eye size, eye width, and its boldness. But analysing these characteristics may be affected due to different factors, which in turn degrades the accuracy detection. The accuracy of eye detection methods are affected by the following factors:\n",
        "1.\tVariations in face pose\n",
        "2.  Eye Occlusions\n",
        "3.  Use of glasses and\n",
        "4.  Illumination variation.\n",
        "\n",
        "These factors make it hard to detect eyes clearly from facial images. To improve this accuracy, the authors have researched and developed a hybrid model integrating two classifiers.\n",
        "\n",
        "\n",
        "There are two sections to the processing done in this mode. The first section is a data analytics section where data from multiple databases are analyzed. This involves utilizing the concepts of big-data, data pre-processing, and classification of data. For data classification, a combination of both CNN and SVM classifiers are used.\n",
        "\n",
        " The CNN classifier acts as a feature extractor while the SVM classifier carries out the final classification of eye images. The CNN classifier is used after training to extract various eye features. For feature extraction, the CNN classifier provides seven layers for the processing which are the input layer, convolution layer, sub-sampling layer, and the output layer. Here, successive convolutions and subsampling are done. Each layer of CNN extractor has two-dimensional planes called feature maps which further contains neurons. Tree kernels are used in this scenario where neurons having the same feature map, have the same kernel and associated weights. Rectified Linear Units (ReLU) transformation is utilized in the convolution layer to obtain the final values of the Feature maps.\n",
        "\n",
        "In the final classification stage done by SVM classifiers, distinguishing between the eye and non-eye images is done. The SVM classifier is used to verify eyes. SVM is a quick solution for this problem as it uses a hyperplane as the decision surface to differentiate between two classes. To minimize miscalculation error and maximize the area for the decision surface, kernel functions such as the polynomial, Gaussian, and RBF functions are utilized. \n",
        "\n",
        "Before the feature extraction and classification stage, the authors have introduced a new section of processing called the Eye Variance Filter (EVF) which does the initial detection of eye regions. The intensity variation of an eyes’ grey part is used to detect whether a region is an eye image or not. The EVF uses correlation to find the most probable eye image areas which are calculated using the variance between eye and non-eye images. The output of this section is hence called ‘candidate eyes.’\n",
        "\n",
        "The authors have then used the model that they have created on various databases such as BioID, IMM, FERET, as well as ORL face databases. They have further compared this model with other existing eye detection models such as the models proposed by Yu et al. (YU, LIN, and WANG, 2016), Hassaballah et al. (Hassaballah, Kanazawa, Ido and Ido, 2010), and so on.\n",
        "\n",
        "The principles of EVF, CNN, and SVM are taken from this paper as well from various other journals and detailed in this report. Moreover, the process of eye detection and experimental results are elaborated in detail. "
      ]
    },
    {
      "cell_type": "markdown",
      "metadata": {
        "id": "q5q1X9whaW71",
        "colab_type": "text"
      },
      "source": [
        "###Innovation "
      ]
    },
    {
      "cell_type": "markdown",
      "metadata": {
        "id": "_N1wC1hLabWm",
        "colab_type": "text"
      },
      "source": [
        "The authors describe the existing eye detection models and state the disadvantages of these models with reason. The current models, as well as their drawbacks, are detailed below."
      ]
    },
    {
      "cell_type": "markdown",
      "metadata": {
        "id": "FUtjrp4odC51",
        "colab_type": "text"
      },
      "source": [
        "**Shape-based Method**"
      ]
    },
    {
      "cell_type": "markdown",
      "metadata": {
        "id": "YK6mFbrbdYP_",
        "colab_type": "text"
      },
      "source": [
        "•\tUses a geometric Eye Model and a metric to measure similarity as to if a face image consists of eye images\n",
        "\n",
        "•\tFeatures are extracted by either using thresholds of image intensity and edge detection technique (García-Dopico, Pérez, Pedraza and Córdoba, 2017), or by using a separability feature followed by Hough transform for model fitting (Kawaguchi, Rizon and Hidaka, 2005).\n"
      ]
    },
    {
      "cell_type": "markdown",
      "metadata": {
        "id": "j7QnwocUZogW",
        "colab_type": "text"
      },
      "source": [
        "**Disadvantage**"
      ]
    },
    {
      "cell_type": "markdown",
      "metadata": {
        "id": "89v5YpUBdnrM",
        "colab_type": "text"
      },
      "source": [
        "To increase accuracy, the number of parameters needs to be improved to create the model. This, in turn, increases the computational demand."
      ]
    },
    {
      "cell_type": "markdown",
      "metadata": {
        "id": "Nxv3hqSQdqhJ",
        "colab_type": "text"
      },
      "source": [
        "**Feature-based Method**"
      ]
    },
    {
      "cell_type": "markdown",
      "metadata": {
        "id": "kRZCFrx1du36",
        "colab_type": "text"
      },
      "source": [
        "•\tUses distinct features such as eyebrows to locate the eye region using linear/non-linear filters (A. Sirohey and Rosenfeld, 2001).\n",
        "\n",
        "•\tThe detected features are further filtered out either through a voting mechanism or through validation by a variable projection function.\n"
      ]
    },
    {
      "cell_type": "markdown",
      "metadata": {
        "id": "G557o8gvd1uv",
        "colab_type": "text"
      },
      "source": [
        "This method is affected by changes in pose and illumination. Thus, the model demands high-quality images"
      ]
    },
    {
      "cell_type": "markdown",
      "metadata": {
        "id": "4mwpVlNkd4fY",
        "colab_type": "text"
      },
      "source": [
        "**Appearance-based Method**"
      ]
    },
    {
      "cell_type": "markdown",
      "metadata": {
        "id": "Z13Oz8pFd-ay",
        "colab_type": "text"
      },
      "source": [
        "•\tUses photometric images of the eyes directly which is used as training data to build eye model. This is followed by feature extraction to remove noise and dimensionality and then a classifier.\n",
        "\n",
        "•\tThe feature extractor can be either using Eigenvectors (Ryu and Oh, 2001) or a binary tree.\n",
        "\n",
        "•\tThe classifier can be an SVM (Singh, 2016) or using a Bayesian Criteria.\n"
      ]
    },
    {
      "cell_type": "markdown",
      "metadata": {
        "id": "nQbzjgTVeGXA",
        "colab_type": "text"
      },
      "source": [
        "**Disadvantage**"
      ]
    },
    {
      "cell_type": "markdown",
      "metadata": {
        "id": "GMOvFrVSeUp_",
        "colab_type": "text"
      },
      "source": [
        "Since this method is dependent on machine learning algorithms to develop model from training datasets, it can apply on all kinds of different eye images."
      ]
    },
    {
      "cell_type": "markdown",
      "metadata": {
        "id": "50NbPVw7eXgd",
        "colab_type": "text"
      },
      "source": [
        "In the proposed eye detection method, the authors are innovative in the following ways:\n",
        "\n",
        "•\tUses a combination of above-listed methodologies called hybrid-based method to improve the accuracy of the model. They have used a combination of both CNN and SVM classifiers where the CNN acts as a feature extractor, and the SVM classifier is used for the final classification process. This model is unique and innovative in terms of the classifiers that are being utilized.\n",
        "\n",
        "•\tIn addition to using hybrid-based type, the authors have included an additional element known as the Eye Variance Filter (EVF). This filter is utilized in this model to roughly identify eye locations and thus filters out the non-eye areas. This is an added benefit to this model as it speeds up the overall detection process.\n",
        "\n"
      ]
    },
    {
      "cell_type": "markdown",
      "metadata": {
        "id": "9PnFj6IDek3d",
        "colab_type": "text"
      },
      "source": [
        "####Technical Quality"
      ]
    },
    {
      "cell_type": "markdown",
      "metadata": {
        "id": "LiDc_QJQeppw",
        "colab_type": "text"
      },
      "source": [
        "The technical aspect of this paper is complex and not easily understandable as the authors haven’t clearly described the research background behind why CNN and SVM were selected amidst the other classifier options. Moreover, there are technical terms such as eigenvectors, Bayesian criteria and Rectified Linear Units transformation which is not clearly explained in the article. This would make it hard for an unknowledgeable reader to comprehend the detailed processes and mechanisms. To compute the correlation value of EVF, the authors have taken 30 eye and non-eye images each from a database and came to a conclusion of 0.32 as a threshold value. The calculations and how they came up to this threshold isn’t precise. While considering the comparative study of the proposed model with existing classical models, the authors have done reasonably good research and detailing of model accuracy. The authors have collected data from multiple databases such as Biometric Identity (BioID), Informatics and Mathematical Modelling (IMM), Face Recognition Technology (FERET) and AT &T database of faces (ORL) and tested proposed model with other existing models showing highest accuracy in their model. Again, the authors haven’t explained why the other models had lesser accuracy percentage."
      ]
    },
    {
      "cell_type": "markdown",
      "metadata": {
        "id": "bbq3fo_5Xq21",
        "colab_type": "text"
      },
      "source": [
        "Github URL : https://github.com/geojojacob/UTS_ML_ID13062930/blob/master/A1_13062930.ipynb"
      ]
    },
    {
      "cell_type": "markdown",
      "metadata": {
        "id": "Xq4E5jcWfHoM",
        "colab_type": "text"
      },
      "source": [
        "####Application & X-factor "
      ]
    },
    {
      "cell_type": "markdown",
      "metadata": {
        "id": "EtReeVypfKh4",
        "colab_type": "text"
      },
      "source": [
        "The paper presents an application of CNN and SVM classifiers for eye detection. These classifiers can be used for a variety of applications such as fingerprint detection, language/speech recognition (Elleuch, Maalej, and Kherallah, 2016), image detection, gender recognition, breast cancer detection and so on.\n",
        "\n",
        "As there is substantial technological progress in the field of handwriting capturing devices, this combination of classifiers can be used for tasks such as handwriting recognition. This application can be used by businesses to digitize handwritten documentation such as bank cheque amounts, deciphering addresses, and other essential documents. The duo-classifiers can be used in the field of medicine where cancer detection can be further iterated using better training and automated techniques. \n",
        "\n",
        "The field of eye detection using machine learning itself is what makes this paper unique. The authors have published this paper in the year 2018 with a fair amount of research work with other existing methods and techniques used. The authors in this report have provided a significant improvement in terms of accuracy in their proposed model using CNN and SVM classifiers. They have achieved an edge over other classical models by overcoming the shortcomings observed from previous works. The authors have utilized data from multiple databases to test as well to compare accuracy with existing models. Since this model is based on the research of other current models, it is interesting to see the authors compiling the advantages from existing models to ensure that optimum accuracy is obtained. The data used for the proposed model is real-time data which variations in parameters such as glasses, poses, and illumination. \n",
        "\n",
        "The authors have executed the research and analysis in a very appropriate manner and presented with ethical standards. By cross-referencing their findings with data from databases, the authors have ensured that the content is explained comprehensively. If the explanations of technologies and terms were included, the overall quality of the report would have been enhanced. Another significant aspect that was observed in this paper is that it didn’t ignite any further debates in the applications of SVM and CNN classifiers as its utility has been clearly described in the article. Based on the developments in the field of deep learning methods, there is further immense potential for future directions. \n",
        "\n",
        "The combination of CNN and SVM classifiers is used mainly for pattern recognition tasks. Pattern recognition tasks have a variety of applications across multiple fields such as Medicine, Government, and businesses as well. A discussion can be carried out in class in terms of the fundamentals and mechanisms of CNN and SVM classifiers. Based on my research, there are various researchers made in the field of eye detection. Of the recent studies made in the area, investigations have not been made yet using other possible classifiers such as AdaBoost. This would be a very valid topic of discussion within the class as it isn’t widely explored. The latest developments of technology that is related to further research on this topic can be evaluated as well. Since eye detection is a significant field, it’s an attractive topic of discussion which a general audience would be interested in.\n"
      ]
    },
    {
      "cell_type": "markdown",
      "metadata": {
        "id": "HtYYspy5fXel",
        "colab_type": "text"
      },
      "source": [
        "####Presentation "
      ]
    },
    {
      "cell_type": "markdown",
      "metadata": {
        "id": "9sZZxWfxfbTU",
        "colab_type": "text"
      },
      "source": [
        "The authors have ensured that their work is presented clearly and is of high quality. They have provided a detailed explanation of the step-by-step processes involved as well as the equations used to carry out this method. The technical procedures happening at each stage of the model is explained in detail. The authors have presented what they wish to achieve and have ensured that they are in line with their aim without any deviations from the topic. In their paper, they have elaborated the previous works that have been done in this field as part of the literature and the benefits of their proposed new model as compared to the existing ones as proposed by Yu et al. and Hassaballah et al. It would have been advantageous if the authors had explained why the current models were not accurate enough. As part of related studies, the authors have presented the previous eye detection techniques such as shaped-based, feature-based and appearance-based methods as well as its disadvantages. This made it easier to comprehend why the selected hybrid-based approach was adopted for their model. As part of this section, the authors have also cross-verified their results concerning earlier studies.\n",
        "There is a natural flow within sections of the paper, which shows that the document is appropriately structured without any deviations from the intended aim of proposing their improved eye detection model. In the introduction of the article, the authors have given a brief and spot-on overview of what the paper is about and what all sections the paper is going to cover. Although the applications of eye detection methods are presented in the article, it would have been a better approach if the significance of having improved accuracy in this field was explained. It would have provided a better intensity to the topic. The principles of CNN and SVM are briefly mentioned initially, and then its application in this methodology is further explained. It would have been better if relevant aspects of these classifiers were explained in more depth so that its use in eye detection could be better understood.\n",
        "The authors have referenced information aptly assisting the reader to further read and understand the topics in more depth. The vocabulary used in this report is relatively simple and easy to comprehend. The findings of the authors were illustrated through graphs and tables which assisted in deciphering information in a more relaxed manner.  \n"
      ]
    },
    {
      "cell_type": "markdown",
      "metadata": {
        "id": "_MVV8Puqff5-",
        "colab_type": "text"
      },
      "source": [
        "####Conclusion"
      ]
    },
    {
      "cell_type": "markdown",
      "metadata": {
        "id": "vErQ9mrifj6J",
        "colab_type": "text"
      },
      "source": [
        "The selected paper of eye detection using CNN and SVM techniques has a good standard of presentation and wise usage of relevant information. Due to this reason, this paper can be used as a baseline measure for researchers who wish to pursue future research in the field of eye detection. The authors have maintained a well-defined structure, natural flow between sections and presentation all through the report hence, providing a more accessible means for readers to comprehend. The soul of the paper is pattern recognition which doesn’t necessarily fall under any focused category. \n",
        "\n"
      ]
    },
    {
      "cell_type": "markdown",
      "metadata": {
        "id": "rppCbp5efmKx",
        "colab_type": "text"
      },
      "source": [
        "####References"
      ]
    },
    {
      "cell_type": "markdown",
      "metadata": {
        "id": "ZZoAh2LefpyJ",
        "colab_type": "text"
      },
      "source": [
        "1)\tA. Sirohey, S. and Rosenfeld, A. 2001, Eye detection in a face image using linear and nonlinear filters, Pattern Recognition, vol 34, no 7, pp.1367-1391,.\n",
        "\n",
        "2)\tElleuch, M., Maalej, R. and Kherallah, M. 2016, A New Design Based-SVM of the CNN Classifier Architecture with Dropout for Offline Arabic Handwritten Recognition, Procedia Computer Science, vol 80, pp.1712-1723,.\n",
        "\n",
        "3)\tGarcía-Dopico, A., Pérez, A., Pedraza, J. and Córdoba, M. 2017, Precise Non-Intrusive Real-Time Gaze Tracking System for Embedded Setups, Computing and Informatics, vol 36, no 2, pp.257-282,.\n",
        "\n",
        "4)\tHassaballah, M., Kanazawa, T., Ido, S. and Ido, S. 2010, Efficient eye detection method based on grey intensity variance and independent components analysis, IET Computer Vision, vol 4, no 4, p.261,.\n",
        "\n",
        "5)\tKawaguchi, T., Rizon, M. and Hidaka, D. 2005, Detection of eyes from human faces by Hough transform and separability filter, Electronics and Communications in Japan (Part II: Electronics), vol 88, no 5, pp.29-39,.\n",
        "\n",
        "6)\tRyu, Y. and Oh, S. 2001, Automatic extraction of eye and mouth fields from a face image using eigenfeatures and multilayer perceptrons, Pattern Recognition, vol 34, no 12, pp.2459-2466,.\n",
        "\n",
        "7)\tSingh, B. 2016, Iris Recognition Using Curve let Transformation Based on Gabor Filter& SVM, International Journal Of Engineering And Computer Science,.\n",
        "\n",
        "8)\tTheoharatos, C., Economou, G. and Fotopoulos, S. 2005, Color edge detection using the minimal spanning tree, Pattern Recognition, vol 38, no 4, pp.603-606,.\n",
        "\n",
        "9)\tYu, M., Tang, X., Lin, Y., Schmidt, D., Wang, X., Guo, Y. and Liang, B. 2018, An eye detection method based on convolutional neural networks and support vector machines, Intelligent Data Analysis, vol 22, no 2, pp.345-362,.\n",
        "\n",
        "10)\tYU, M., LIN, Y. and WANG, X. 2016, An efficient hybrid eye detection method, TURKISH JOURNAL OF ELECTRICAL ENGINEERING & COMPUTER SCIENCES, vol 24, pp.1586-1603,.\n"
      ]
    }
  ]
}